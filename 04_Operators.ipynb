{
 "cells": [
  {
   "cell_type": "markdown",
   "id": "c6535b36",
   "metadata": {},
   "source": [
    "Logical operators"
   ]
  },
  {
   "cell_type": "raw",
   "id": "68aaf478",
   "metadata": {},
   "source": [
    "1)AND\n",
    "2)OR\n",
    "3)NOT"
   ]
  },
  {
   "cell_type": "code",
   "execution_count": 1,
   "id": "499a4eed",
   "metadata": {},
   "outputs": [
    {
     "name": "stdout",
     "output_type": "stream",
     "text": [
      "False\n",
      "True\n",
      "True\n"
     ]
    }
   ],
   "source": [
    "#Example1\n",
    "x=5\n",
    "y=6\n",
    "print(x==5 and y<3)\n",
    "print(x==6 or y>3)\n",
    "print(not(x==6))"
   ]
  },
  {
   "cell_type": "code",
   "execution_count": 2,
   "id": "2acd48e0",
   "metadata": {},
   "outputs": [
    {
     "name": "stdout",
     "output_type": "stream",
     "text": [
      "enter the age 50\n",
      "Major\n"
     ]
    }
   ],
   "source": [
    "#Example2\n",
    "age=int(input('enter the age '))\n",
    "if age>18 and age<=50:\n",
    "    print('Major')\n",
    "elif age<=18 or age>15:\n",
    "    print('Minor')\n",
    "else:\n",
    "    print('Senior')"
   ]
  },
  {
   "cell_type": "markdown",
   "id": "06db7ac6",
   "metadata": {},
   "source": [
    "Comparison Operators"
   ]
  },
  {
   "cell_type": "raw",
   "id": "bd61b38a",
   "metadata": {},
   "source": [
    "<\tless than\n",
    "<=\tless than or equal to\n",
    ">\tgreater than\n",
    ">=\tgreater than or equal to"
   ]
  },
  {
   "cell_type": "code",
   "execution_count": 3,
   "id": "27307cb1",
   "metadata": {},
   "outputs": [
    {
     "name": "stdout",
     "output_type": "stream",
     "text": [
      "enter the marks35\n"
     ]
    }
   ],
   "source": [
    "marks=float(input('enter the marks'))\n",
    "if marks>35:\n",
    "    print('Pass')\n",
    "elif marks>35 and marks<70:\n",
    "    print('FC')\n",
    "elif marks<35:\n",
    "    print('fail')"
   ]
  },
  {
   "cell_type": "markdown",
   "id": "edad54e4",
   "metadata": {},
   "source": [
    "Equality Operators"
   ]
  },
  {
   "cell_type": "raw",
   "id": "510f360b",
   "metadata": {},
   "source": [
    "is\t*a is b* returns true if variable/identifiers a and b points to the same object\n",
    "is not\t*a is not b* returns true if variable/identifiers a and b points to the different object\n",
    "==\t*a == b* returns true if variable/identifiers a and b has same value\n",
    "!=\t*a != b* returns true if variable/identifiers a and b has different value"
   ]
  },
  {
   "cell_type": "code",
   "execution_count": 4,
   "id": "1a0572dc",
   "metadata": {},
   "outputs": [
    {
     "data": {
      "text/plain": [
       "False"
      ]
     },
     "execution_count": 4,
     "metadata": {},
     "output_type": "execute_result"
    }
   ],
   "source": [
    "#Example1\n",
    "a=\"sri prakash\"\n",
    "b=\"sri prakash\"\n",
    "a!=b"
   ]
  },
  {
   "cell_type": "code",
   "execution_count": 5,
   "id": "af1b785a",
   "metadata": {},
   "outputs": [
    {
     "name": "stdout",
     "output_type": "stream",
     "text": [
      "enter the age18\n",
      "Major\n"
     ]
    }
   ],
   "source": [
    "#Example2\n",
    "age=int(input(\"enter the age\"))\n",
    "if age==18:\n",
    "    print('Major')\n",
    "else:\n",
    "    print('Minor')"
   ]
  },
  {
   "cell_type": "code",
   "execution_count": 6,
   "id": "a0ea1aa6",
   "metadata": {},
   "outputs": [
    {
     "name": "stdout",
     "output_type": "stream",
     "text": [
      "1956567606320\n",
      "1956567606320\n"
     ]
    }
   ],
   "source": [
    "#Example3\n",
    "a='sri'\n",
    "print(id(a))\n",
    "b='sri'\n",
    "print(id(b))"
   ]
  },
  {
   "cell_type": "code",
   "execution_count": 7,
   "id": "73c0664c",
   "metadata": {},
   "outputs": [
    {
     "data": {
      "text/plain": [
       "True"
      ]
     },
     "execution_count": 7,
     "metadata": {},
     "output_type": "execute_result"
    }
   ],
   "source": [
    "a is b"
   ]
  },
  {
   "cell_type": "code",
   "execution_count": 8,
   "id": "ce2766e9",
   "metadata": {},
   "outputs": [
    {
     "name": "stdout",
     "output_type": "stream",
     "text": [
      "1956567604864\n",
      "1956567668288\n"
     ]
    }
   ],
   "source": [
    "#Example4\n",
    "lst1=[1,2,3]\n",
    "lst2=[1,2,3]\n",
    "print(id(lst1))\n",
    "print(id(lst2))"
   ]
  },
  {
   "cell_type": "code",
   "execution_count": 9,
   "id": "0942637b",
   "metadata": {},
   "outputs": [
    {
     "data": {
      "text/plain": [
       "True"
      ]
     },
     "execution_count": 9,
     "metadata": {},
     "output_type": "execute_result"
    }
   ],
   "source": [
    "lst1 == lst2"
   ]
  },
  {
   "cell_type": "code",
   "execution_count": 10,
   "id": "108ac165",
   "metadata": {},
   "outputs": [
    {
     "data": {
      "text/plain": [
       "False"
      ]
     },
     "execution_count": 10,
     "metadata": {},
     "output_type": "execute_result"
    }
   ],
   "source": [
    "lst1 is lst2"
   ]
  },
  {
   "cell_type": "markdown",
   "id": "69f39973",
   "metadata": {},
   "source": [
    "Arithmetic Operators"
   ]
  },
  {
   "cell_type": "raw",
   "id": "8a8a466e",
   "metadata": {},
   "source": [
    "+\taddition\n",
    "-\tsubtraction\n",
    "*\tmultiplication\n",
    "/\ttrue division\n",
    "//\tinteger division\n",
    "%\tthe modulo operator"
   ]
  },
  {
   "cell_type": "code",
   "execution_count": 11,
   "id": "47e5e688",
   "metadata": {},
   "outputs": [
    {
     "data": {
      "text/plain": [
       "5"
      ]
     },
     "execution_count": 11,
     "metadata": {},
     "output_type": "execute_result"
    }
   ],
   "source": [
    "#Examples\n",
    "2+3"
   ]
  },
  {
   "cell_type": "code",
   "execution_count": 12,
   "id": "d282ae25",
   "metadata": {},
   "outputs": [
    {
     "data": {
      "text/plain": [
       "1"
      ]
     },
     "execution_count": 12,
     "metadata": {},
     "output_type": "execute_result"
    }
   ],
   "source": [
    "3-2"
   ]
  },
  {
   "cell_type": "code",
   "execution_count": 13,
   "id": "a0b97c3b",
   "metadata": {},
   "outputs": [
    {
     "data": {
      "text/plain": [
       "6"
      ]
     },
     "execution_count": 13,
     "metadata": {},
     "output_type": "execute_result"
    }
   ],
   "source": [
    "3*2"
   ]
  },
  {
   "cell_type": "code",
   "execution_count": 14,
   "id": "97541615",
   "metadata": {},
   "outputs": [
    {
     "data": {
      "text/plain": [
       "2.0"
      ]
     },
     "execution_count": 14,
     "metadata": {},
     "output_type": "execute_result"
    }
   ],
   "source": [
    "6/3"
   ]
  },
  {
   "cell_type": "code",
   "execution_count": 15,
   "id": "cbf898f1",
   "metadata": {},
   "outputs": [
    {
     "data": {
      "text/plain": [
       "2"
      ]
     },
     "execution_count": 15,
     "metadata": {},
     "output_type": "execute_result"
    }
   ],
   "source": [
    "6//3"
   ]
  },
  {
   "cell_type": "code",
   "execution_count": 16,
   "id": "24a9bd0f",
   "metadata": {},
   "outputs": [
    {
     "data": {
      "text/plain": [
       "0"
      ]
     },
     "execution_count": 16,
     "metadata": {},
     "output_type": "execute_result"
    }
   ],
   "source": [
    "6%3"
   ]
  },
  {
   "cell_type": "code",
   "execution_count": null,
   "id": "aaf67e31",
   "metadata": {},
   "outputs": [],
   "source": []
  }
 ],
 "metadata": {
  "kernelspec": {
   "display_name": "Python 3 (ipykernel)",
   "language": "python",
   "name": "python3"
  },
  "language_info": {
   "codemirror_mode": {
    "name": "ipython",
    "version": 3
   },
   "file_extension": ".py",
   "mimetype": "text/x-python",
   "name": "python",
   "nbconvert_exporter": "python",
   "pygments_lexer": "ipython3",
   "version": "3.9.7"
  }
 },
 "nbformat": 4,
 "nbformat_minor": 5
}
