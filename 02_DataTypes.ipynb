{
 "cells": [
  {
   "cell_type": "markdown",
   "id": "d8e5b48f",
   "metadata": {},
   "source": [
    "# Python supports 3 categories of data types:"
   ]
  },
  {
   "cell_type": "raw",
   "id": "8f54ccd2",
   "metadata": {},
   "source": [
    "Basic Types - (integer,float,complex,boolean and string)\n",
    "Container Types - (List,Tuples, Sets and Dictionary)\n",
    "User-defined Types - Class"
   ]
  },
  {
   "cell_type": "markdown",
   "id": "ff6e5309",
   "metadata": {},
   "source": [
    "Basic Examples"
   ]
  },
  {
   "cell_type": "code",
   "execution_count": 1,
   "id": "81e6f2bc",
   "metadata": {},
   "outputs": [
    {
     "name": "stdout",
     "output_type": "stream",
     "text": [
      "4\n",
      "inf\n"
     ]
    }
   ],
   "source": [
    "# integer\n",
    "print(4)\n",
    "print(1e309)"
   ]
  },
  {
   "cell_type": "code",
   "execution_count": 2,
   "id": "27b1a379",
   "metadata": {},
   "outputs": [
    {
     "name": "stdout",
     "output_type": "stream",
     "text": [
      "4.5\n",
      "1.7e+308\n"
     ]
    }
   ],
   "source": [
    "# float\n",
    "print(4.5)\n",
    "print(1.7e308)"
   ]
  },
  {
   "cell_type": "code",
   "execution_count": 3,
   "id": "46e33fb4",
   "metadata": {},
   "outputs": [
    {
     "name": "stdout",
     "output_type": "stream",
     "text": [
      "<class 'float'>\n"
     ]
    }
   ],
   "source": [
    "a=20.6\n",
    "print(type(a))  #typecasting"
   ]
  },
  {
   "cell_type": "code",
   "execution_count": 4,
   "id": "84eafb08",
   "metadata": {},
   "outputs": [
    {
     "name": "stdout",
     "output_type": "stream",
     "text": [
      "True\n",
      "False\n"
     ]
    }
   ],
   "source": [
    "# boolean\n",
    "print(True)\n",
    "print(False)"
   ]
  },
  {
   "cell_type": "code",
   "execution_count": 6,
   "id": "9600f719",
   "metadata": {},
   "outputs": [],
   "source": [
    "a=True\n",
    "b=False"
   ]
  },
  {
   "cell_type": "code",
   "execution_count": 7,
   "id": "a54fe099",
   "metadata": {
    "scrolled": true
   },
   "outputs": [
    {
     "data": {
      "text/plain": [
       "bool"
      ]
     },
     "execution_count": 7,
     "metadata": {},
     "output_type": "execute_result"
    }
   ],
   "source": [
    "type(a)"
   ]
  },
  {
   "cell_type": "code",
   "execution_count": 8,
   "id": "60e2860d",
   "metadata": {},
   "outputs": [
    {
     "data": {
      "text/plain": [
       "False"
      ]
     },
     "execution_count": 8,
     "metadata": {},
     "output_type": "execute_result"
    }
   ],
   "source": [
    "a and b"
   ]
  },
  {
   "cell_type": "code",
   "execution_count": 9,
   "id": "1fffbdb8",
   "metadata": {},
   "outputs": [
    {
     "data": {
      "text/plain": [
       "True"
      ]
     },
     "execution_count": 9,
     "metadata": {},
     "output_type": "execute_result"
    }
   ],
   "source": [
    "a or b"
   ]
  },
  {
   "cell_type": "code",
   "execution_count": 10,
   "id": "afc14e9f",
   "metadata": {},
   "outputs": [
    {
     "data": {
      "text/plain": [
       "False"
      ]
     },
     "execution_count": 10,
     "metadata": {},
     "output_type": "execute_result"
    }
   ],
   "source": [
    "a & b"
   ]
  },
  {
   "cell_type": "code",
   "execution_count": 11,
   "id": "d8b66e28",
   "metadata": {},
   "outputs": [
    {
     "data": {
      "text/plain": [
       "True"
      ]
     },
     "execution_count": 11,
     "metadata": {},
     "output_type": "execute_result"
    }
   ],
   "source": [
    "a|b"
   ]
  },
  {
   "cell_type": "code",
   "execution_count": 12,
   "id": "4b90489e",
   "metadata": {},
   "outputs": [
    {
     "name": "stdout",
     "output_type": "stream",
     "text": [
      "(4+5j)\n"
     ]
    }
   ],
   "source": [
    "# complex\n",
    "print(4+5j)"
   ]
  },
  {
   "cell_type": "code",
   "execution_count": 13,
   "id": "4ec716f8",
   "metadata": {},
   "outputs": [
    {
     "name": "stdout",
     "output_type": "stream",
     "text": [
      "Bihar\n",
      "Karnataka\n",
      "Patna Bangalore\n"
     ]
    }
   ],
   "source": [
    "# string\n",
    "print('Bihar')\n",
    "print(\"Karnataka\")\n",
    "print(\"\"\"Patna Bangalore\"\"\")"
   ]
  },
  {
   "cell_type": "code",
   "execution_count": 16,
   "id": "27cbdaba",
   "metadata": {},
   "outputs": [
    {
     "data": {
      "text/plain": [
       "'sri'"
      ]
     },
     "execution_count": 16,
     "metadata": {},
     "output_type": "execute_result"
    }
   ],
   "source": [
    "a='sri'\n",
    "a"
   ]
  },
  {
   "cell_type": "code",
   "execution_count": 21,
   "id": "996499c6",
   "metadata": {},
   "outputs": [
    {
     "data": {
      "text/plain": [
       "'sriprakash'"
      ]
     },
     "execution_count": 21,
     "metadata": {},
     "output_type": "execute_result"
    }
   ],
   "source": [
    "a+'prakash' #concat"
   ]
  },
  {
   "cell_type": "markdown",
   "id": "de2eec6b",
   "metadata": {},
   "source": [
    "Dynamic_Typing"
   ]
  },
  {
   "cell_type": "code",
   "execution_count": 22,
   "id": "a0823e33",
   "metadata": {},
   "outputs": [],
   "source": [
    "a=23\n",
    "a='sri'"
   ]
  },
  {
   "cell_type": "markdown",
   "id": "cef3cd99",
   "metadata": {},
   "source": [
    "Strong_Typing"
   ]
  },
  {
   "cell_type": "code",
   "execution_count": 27,
   "id": "fb03e1fb",
   "metadata": {},
   "outputs": [
    {
     "ename": "TypeError",
     "evalue": "can only concatenate str (not \"int\") to str",
     "output_type": "error",
     "traceback": [
      "\u001b[1;31m---------------------------------------------------------------------------\u001b[0m",
      "\u001b[1;31mTypeError\u001b[0m                                 Traceback (most recent call last)",
      "\u001b[1;32m~\\AppData\\Local\\Temp/ipykernel_6036/3597163919.py\u001b[0m in \u001b[0;36m<module>\u001b[1;34m\u001b[0m\n\u001b[0;32m      1\u001b[0m \u001b[0ma\u001b[0m\u001b[1;33m=\u001b[0m\u001b[1;34m\"sri\"\u001b[0m\u001b[1;33m\u001b[0m\u001b[1;33m\u001b[0m\u001b[0m\n\u001b[1;32m----> 2\u001b[1;33m \u001b[0ma\u001b[0m\u001b[1;33m+\u001b[0m\u001b[1;36m1\u001b[0m\u001b[1;33m\u001b[0m\u001b[1;33m\u001b[0m\u001b[0m\n\u001b[0m",
      "\u001b[1;31mTypeError\u001b[0m: can only concatenate str (not \"int\") to str"
     ]
    }
   ],
   "source": [
    "a=\"sri\"\n",
    "a+1"
   ]
  },
  {
   "cell_type": "code",
   "execution_count": 28,
   "id": "a94f3193",
   "metadata": {},
   "outputs": [
    {
     "data": {
      "text/plain": [
       "'sri1'"
      ]
     },
     "execution_count": 28,
     "metadata": {},
     "output_type": "execute_result"
    }
   ],
   "source": [
    "a=\"sri\"\n",
    "a+'1'   #always should be string "
   ]
  },
  {
   "cell_type": "markdown",
   "id": "3c62a796",
   "metadata": {},
   "source": [
    "String Formating"
   ]
  },
  {
   "cell_type": "code",
   "execution_count": 29,
   "id": "e02e023c",
   "metadata": {},
   "outputs": [
    {
     "name": "stdout",
     "output_type": "stream",
     "text": [
      "The values is -  100\n"
     ]
    }
   ],
   "source": [
    "a=100\n",
    "print(\"The values is - \",a)"
   ]
  },
  {
   "cell_type": "code",
   "execution_count": 30,
   "id": "fe924bc6",
   "metadata": {},
   "outputs": [
    {
     "name": "stdout",
     "output_type": "stream",
     "text": [
      "The first name is Sri and last name is Prakash\n"
     ]
    }
   ],
   "source": [
    "first_name=\"Sri\"\n",
    "last_name=\"Prakash\"\n",
    "print(\"The first name is {a} and last name is {b}\".format(b=last_name,a=first_name))"
   ]
  },
  {
   "cell_type": "code",
   "execution_count": 31,
   "id": "d96a4d6c",
   "metadata": {},
   "outputs": [
    {
     "name": "stdout",
     "output_type": "stream",
     "text": [
      "Enter the number A 2\n",
      "enter the number B 3\n",
      "5\n"
     ]
    }
   ],
   "source": [
    "#input type\n",
    "a=input(\"Enter the number A \")\n",
    "b=input(\"enter the number B \") \n",
    "print(int(a)+int(b))"
   ]
  },
  {
   "cell_type": "code",
   "execution_count": 10,
   "id": "17a637a0",
   "metadata": {},
   "outputs": [
    {
     "name": "stdout",
     "output_type": "stream",
     "text": [
      "[1, 2, 3, 4, 5]\n"
     ]
    }
   ],
   "source": [
    "# list\n",
    "print([1,2,3,4,5])"
   ]
  },
  {
   "cell_type": "code",
   "execution_count": 11,
   "id": "4223c6ef",
   "metadata": {},
   "outputs": [
    {
     "name": "stdout",
     "output_type": "stream",
     "text": [
      "(1, 2, 3, 4, 5)\n"
     ]
    }
   ],
   "source": [
    "# tuple\n",
    "print((1,2,3,4,5))"
   ]
  },
  {
   "cell_type": "code",
   "execution_count": 12,
   "id": "7a739f1b",
   "metadata": {},
   "outputs": [
    {
     "name": "stdout",
     "output_type": "stream",
     "text": [
      "{1, 2, 3, 4, 5}\n"
     ]
    }
   ],
   "source": [
    "#sets\n",
    "print({1,2,3,4,5})"
   ]
  },
  {
   "cell_type": "code",
   "execution_count": 13,
   "id": "10123c6e",
   "metadata": {},
   "outputs": [
    {
     "name": "stdout",
     "output_type": "stream",
     "text": [
      "{'Name': 'Nitish', 'Age': 30, 'gender': 'Male'}\n"
     ]
    }
   ],
   "source": [
    "# dict\n",
    "print({\"Name\":\"Nitish\",\"Age\":30,\"gender\":\"Male\"})"
   ]
  },
  {
   "cell_type": "code",
   "execution_count": null,
   "id": "af823d09",
   "metadata": {},
   "outputs": [],
   "source": []
  }
 ],
 "metadata": {
  "kernelspec": {
   "display_name": "Python 3 (ipykernel)",
   "language": "python",
   "name": "python3"
  },
  "language_info": {
   "codemirror_mode": {
    "name": "ipython",
    "version": 3
   },
   "file_extension": ".py",
   "mimetype": "text/x-python",
   "name": "python",
   "nbconvert_exporter": "python",
   "pygments_lexer": "ipython3",
   "version": "3.9.7"
  }
 },
 "nbformat": 4,
 "nbformat_minor": 5
}
