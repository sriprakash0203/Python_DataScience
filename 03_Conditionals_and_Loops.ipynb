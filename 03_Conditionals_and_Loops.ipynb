{
 "cells": [
  {
   "cell_type": "markdown",
   "id": "2201ab3f",
   "metadata": {},
   "source": [
    "# Conditionals"
   ]
  },
  {
   "cell_type": "raw",
   "id": "22aa91fd",
   "metadata": {},
   "source": [
    "If_Statement"
   ]
  },
  {
   "cell_type": "code",
   "execution_count": 1,
   "id": "f63466e9",
   "metadata": {},
   "outputs": [],
   "source": [
    "#example1\n",
    "sri_age=30\n",
    "prakash_age=26"
   ]
  },
  {
   "cell_type": "code",
   "execution_count": 2,
   "id": "4256f676",
   "metadata": {},
   "outputs": [
    {
     "name": "stdout",
     "output_type": "stream",
     "text": [
      "praksh is yonger\n"
     ]
    }
   ],
   "source": [
    "if (sri_age > prakash_age ):\n",
    "    print('praksh is yonger')"
   ]
  },
  {
   "cell_type": "code",
   "execution_count": 3,
   "id": "4a21b250",
   "metadata": {},
   "outputs": [
    {
     "name": "stdout",
     "output_type": "stream",
     "text": [
      "enter the number1\n",
      "1\n"
     ]
    }
   ],
   "source": [
    "#example2\n",
    "a=input(\"enter the number\")\n",
    "print(a)"
   ]
  },
  {
   "cell_type": "code",
   "execution_count": 4,
   "id": "c5f08020",
   "metadata": {},
   "outputs": [],
   "source": [
    "b=int(a)\n",
    "if b > 25:\n",
    "    print('b is greater than 25')"
   ]
  },
  {
   "cell_type": "code",
   "execution_count": 5,
   "id": "85908e47",
   "metadata": {},
   "outputs": [
    {
     "name": "stdout",
     "output_type": "stream",
     "text": [
      "enter the number2\n",
      "number is even\n"
     ]
    }
   ],
   "source": [
    "#example3\n",
    "a=input('enter the number')\n",
    "even=int(a)\n",
    "if even%2==0:\n",
    "    print('number is even')"
   ]
  },
  {
   "cell_type": "markdown",
   "id": "f0273fbc",
   "metadata": {},
   "source": [
    "If_Else_Statement"
   ]
  },
  {
   "cell_type": "code",
   "execution_count": 6,
   "id": "00386e4d",
   "metadata": {},
   "outputs": [
    {
     "name": "stdout",
     "output_type": "stream",
     "text": [
      "prakash is younger\n"
     ]
    }
   ],
   "source": [
    "#example1\n",
    "sri_age=26\n",
    "prakash_age=30\n",
    "if sri_age > prakash_age:\n",
    "    print('sri is younger')\n",
    "else:\n",
    "    print('prakash is younger')"
   ]
  },
  {
   "cell_type": "code",
   "execution_count": 7,
   "id": "2cfc2d3e",
   "metadata": {},
   "outputs": [
    {
     "name": "stdout",
     "output_type": "stream",
     "text": [
      "enetr the number3\n",
      "number is odd\n"
     ]
    }
   ],
   "source": [
    "#example2\n",
    "a=input('enetr the number')\n",
    "b=int(a)\n",
    "if b%2==0:\n",
    "    print('number is even')\n",
    "else:\n",
    "    print('number is odd')"
   ]
  },
  {
   "cell_type": "code",
   "execution_count": 8,
   "id": "20d7d78b",
   "metadata": {},
   "outputs": [
    {
     "name": "stdout",
     "output_type": "stream",
     "text": [
      "enter the age4\n",
      "Minor\n"
     ]
    }
   ],
   "source": [
    "#example3 elif statement\n",
    "a=int(input('enter the age'))\n",
    "if a<18:\n",
    "    print('Minor')\n",
    "elif a>18:\n",
    "    print('Major')\n",
    "else:\n",
    "    print(\"None\")"
   ]
  },
  {
   "cell_type": "markdown",
   "id": "cd881f63",
   "metadata": {},
   "source": [
    "Nested Conditions"
   ]
  },
  {
   "cell_type": "code",
   "execution_count": 9,
   "id": "9a7121c9",
   "metadata": {},
   "outputs": [
    {
     "name": "stdout",
     "output_type": "stream",
     "text": [
      "enter age 5\n",
      "person is minor\n"
     ]
    }
   ],
   "source": [
    "#example1\n",
    "a=int(input('enter age '))\n",
    "if a > 18 and a < 50:\n",
    "    print('person is major')\n",
    "elif a > 50:\n",
    "    print('person is senior')\n",
    "elif a < 18:\n",
    "    print('person is minor')\n",
    "else:\n",
    "    print('none')"
   ]
  },
  {
   "cell_type": "markdown",
   "id": "78595ecd",
   "metadata": {},
   "source": [
    "# Loops"
   ]
  },
  {
   "cell_type": "markdown",
   "id": "0f206cf1",
   "metadata": {},
   "source": [
    "Loops are used to repeat a block of code a certain number of time or apply the same logic overeach item in a collection"
   ]
  },
  {
   "cell_type": "markdown",
   "id": "717807c2",
   "metadata": {},
   "source": [
    "For_Loop"
   ]
  },
  {
   "cell_type": "code",
   "execution_count": 10,
   "id": "01e38395",
   "metadata": {},
   "outputs": [
    {
     "name": "stdout",
     "output_type": "stream",
     "text": [
      "1\n",
      "2\n",
      "3\n",
      "4\n",
      "5\n"
     ]
    }
   ],
   "source": [
    "#example1\n",
    "num=[1,2,3,4,5]\n",
    "for i in num:\n",
    "    print(i)"
   ]
  },
  {
   "cell_type": "code",
   "execution_count": 11,
   "id": "fe7e895a",
   "metadata": {},
   "outputs": [
    {
     "name": "stdout",
     "output_type": "stream",
     "text": [
      "0\n",
      "1\n",
      "2\n",
      "3\n",
      "4\n"
     ]
    }
   ],
   "source": [
    "#example2 using of range\n",
    "for number in range(5):\n",
    "    print(number)"
   ]
  },
  {
   "cell_type": "code",
   "execution_count": 12,
   "id": "27430773",
   "metadata": {},
   "outputs": [
    {
     "name": "stdout",
     "output_type": "stream",
     "text": [
      "1\n",
      "3\n",
      "5\n",
      "7\n",
      "9\n"
     ]
    }
   ],
   "source": [
    "#example3 using start,stop and step\n",
    "for num in range(1,10,2):\n",
    "    print(num)"
   ]
  },
  {
   "cell_type": "code",
   "execution_count": 13,
   "id": "a18812bd",
   "metadata": {},
   "outputs": [
    {
     "name": "stdout",
     "output_type": "stream",
     "text": [
      "0\n",
      "1\n",
      "2\n",
      "3\n",
      "4\n",
      "5\n"
     ]
    }
   ],
   "source": [
    "#example4 break\n",
    "for i in range(10):\n",
    "    print(i)\n",
    "    if i==5:\n",
    "        break"
   ]
  },
  {
   "cell_type": "code",
   "execution_count": 14,
   "id": "367a0961",
   "metadata": {},
   "outputs": [
    {
     "name": "stdout",
     "output_type": "stream",
     "text": [
      "0\n",
      "1\n",
      "3\n",
      "4\n",
      "5\n",
      "6\n",
      "7\n",
      "8\n",
      "9\n"
     ]
    }
   ],
   "source": [
    "#example5\n",
    "for i in range(10):\n",
    "    if i==2:\n",
    "        continue\n",
    "    print(i)"
   ]
  },
  {
   "cell_type": "code",
   "execution_count": 15,
   "id": "551df22a",
   "metadata": {},
   "outputs": [
    {
     "name": "stdout",
     "output_type": "stream",
     "text": [
      "15\n"
     ]
    }
   ],
   "source": [
    "#example5\n",
    "#find the sum of all element for a given lsit\n",
    "lst=[1,2,3,4,5]\n",
    "sum1=0\n",
    "for i in lst:\n",
    "    sum1=sum1+i   \n",
    "print(sum1)"
   ]
  },
  {
   "cell_type": "code",
   "execution_count": 16,
   "id": "8e958c00",
   "metadata": {},
   "outputs": [
    {
     "name": "stdout",
     "output_type": "stream",
     "text": [
      "Even sum 20\n",
      "Odd sum 25\n"
     ]
    }
   ],
   "source": [
    "#example6\n",
    "#find the sum of even and odd\n",
    "lst=[1,2,3,4,5,6,7,8,9,]\n",
    "even_sum=0\n",
    "odd_sum=0\n",
    "\n",
    "for i in lst:\n",
    "    if i%2==0:\n",
    "        even_sum=even_sum+i\n",
    "    else:\n",
    "        odd_sum=odd_sum+i\n",
    "#print(even_sum)\n",
    "#print(odd_sum)\n",
    "\n",
    "print('Even sum {}'.format(even_sum))\n",
    "print('Odd sum {}'.format(odd_sum))"
   ]
  },
  {
   "cell_type": "markdown",
   "id": "ab91b74d",
   "metadata": {},
   "source": [
    "While_Loop"
   ]
  },
  {
   "cell_type": "code",
   "execution_count": 17,
   "id": "bc7bd39f",
   "metadata": {},
   "outputs": [
    {
     "name": "stdout",
     "output_type": "stream",
     "text": [
      "0\n",
      "1\n",
      "2\n",
      "3\n",
      "4\n",
      "5\n",
      "6\n",
      "7\n",
      "8\n",
      "9\n",
      "10\n"
     ]
    }
   ],
   "source": [
    "#example1\n",
    "i=0\n",
    "while(i<=10):\n",
    "    print(i)\n",
    "    i=i+1"
   ]
  },
  {
   "cell_type": "code",
   "execution_count": 18,
   "id": "c8dc4b9f",
   "metadata": {},
   "outputs": [
    {
     "name": "stdout",
     "output_type": "stream",
     "text": [
      "30 25\n"
     ]
    }
   ],
   "source": [
    "i=0\n",
    "even_sum=0\n",
    "odd_sum=0\n",
    "while(i<=10):\n",
    "    \n",
    "    if(i%2==0):\n",
    "        even_sum=even_sum+i\n",
    "    else:\n",
    "        odd_sum=odd_sum+i    \n",
    "    i=i+1\n",
    "print(even_sum,odd_sum)"
   ]
  },
  {
   "cell_type": "code",
   "execution_count": 19,
   "id": "72050713",
   "metadata": {},
   "outputs": [
    {
     "name": "stdout",
     "output_type": "stream",
     "text": [
      "1\n",
      "2\n",
      "3\n"
     ]
    }
   ],
   "source": [
    "##break\n",
    "x=1\n",
    "while(x<7):\n",
    "    \n",
    "    if x==4:\n",
    "        break\n",
    "    print(x)\n",
    "    x=x+1"
   ]
  },
  {
   "cell_type": "code",
   "execution_count": 20,
   "id": "1d593cb9",
   "metadata": {},
   "outputs": [
    {
     "name": "stdout",
     "output_type": "stream",
     "text": [
      "1\n",
      "2\n",
      "3\n",
      "4\n"
     ]
    }
   ],
   "source": [
    "x=1\n",
    "while(x<7):\n",
    "    print(x)\n",
    "    \n",
    "    if x==4:\n",
    "        break\n",
    "    x=x+1 "
   ]
  },
  {
   "cell_type": "code",
   "execution_count": 21,
   "id": "7f62a3b3",
   "metadata": {},
   "outputs": [
    {
     "name": "stdout",
     "output_type": "stream",
     "text": [
      "1\n",
      "2\n",
      "3\n",
      "5\n",
      "6\n",
      "7\n"
     ]
    }
   ],
   "source": [
    "#Continue\n",
    "x=0\n",
    "while x<7:\n",
    "    x=x+1\n",
    "    if x==4:\n",
    "        continue\n",
    "    print(x)"
   ]
  }
 ],
 "metadata": {
  "kernelspec": {
   "display_name": "Python 3 (ipykernel)",
   "language": "python",
   "name": "python3"
  },
  "language_info": {
   "codemirror_mode": {
    "name": "ipython",
    "version": 3
   },
   "file_extension": ".py",
   "mimetype": "text/x-python",
   "name": "python",
   "nbconvert_exporter": "python",
   "pygments_lexer": "ipython3",
   "version": "3.9.7"
  }
 },
 "nbformat": 4,
 "nbformat_minor": 5
}
